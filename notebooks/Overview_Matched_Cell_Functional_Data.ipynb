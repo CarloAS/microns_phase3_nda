{
 "cells": [
  {
   "cell_type": "markdown",
   "metadata": {},
   "source": [
    "# Introduction"
   ]
  },
  {
   "cell_type": "markdown",
   "metadata": {},
   "source": [
    "This notebook assumes you have activated credentials with the CAVE client. CAVE (Connectome Annotation Versioning Engine) is built and supported by a collaboration between the Seung lab at Princeton and the Allen Institute for Brain Science. It allows for programmatic access to the tables associated with Minnie and other datasets. [Github](https://github.com/seung-lab/CAVEclient) \n",
    "\n",
    "CAVE setup instructions are [here](https://github.com/AllenInstitute/MicronsBinder/blob/master/notebooks/mm3_intro/CAVEsetup.ipynb).\n",
    "\n",
    "CAVE tutorial for querying the data is [here](https://github.com/AllenInstitute/MicronsBinder/blob/master/notebooks/mm3_intro/SynapseAndAnnotationQuery.ipynb)."
   ]
  },
  {
   "cell_type": "markdown",
   "metadata": {},
   "source": [
    "## Using CAVEclient to query data"
   ]
  },
  {
   "cell_type": "code",
   "execution_count": 1,
   "metadata": {},
   "outputs": [],
   "source": [
    "from caveclient import CAVEclient"
   ]
  },
  {
   "cell_type": "code",
   "execution_count": 2,
   "metadata": {},
   "outputs": [],
   "source": [
    "# this is the datastack name of the public release\n",
    "# passing it will auto-configure many of the services\n",
    "client = CAVEclient('minnie65_public_v117')"
   ]
  },
  {
   "cell_type": "markdown",
   "metadata": {},
   "source": [
    "### View available annotation tables"
   ]
  },
  {
   "cell_type": "code",
   "execution_count": 3,
   "metadata": {},
   "outputs": [
    {
     "data": {
      "text/plain": [
       "['nucleus_detection_v0',\n",
       " 'synapses_pni_2',\n",
       " 'nucleus_neuron_svm',\n",
       " 'proofreading_status_public_release',\n",
       " 'func_unit_em_match_release',\n",
       " 'allen_soma_ei_class_model_v1',\n",
       " 'allen_visp_column_soma_coarse_types_v1']"
      ]
     },
     "execution_count": 3,
     "metadata": {},
     "output_type": "execute_result"
    }
   ],
   "source": [
    "client.materialize.get_tables()"
   ]
  },
  {
   "cell_type": "markdown",
   "metadata": {},
   "source": [
    "### Query functionally matched EM neurons"
   ]
  },
  {
   "cell_type": "code",
   "execution_count": 4,
   "metadata": {},
   "outputs": [],
   "source": [
    "import pandas as pd"
   ]
  },
  {
   "cell_type": "code",
   "execution_count": 5,
   "metadata": {},
   "outputs": [
    {
     "data": {
      "text/html": [
       "<div>\n",
       "<style scoped>\n",
       "    .dataframe tbody tr th:only-of-type {\n",
       "        vertical-align: middle;\n",
       "    }\n",
       "\n",
       "    .dataframe tbody tr th {\n",
       "        vertical-align: top;\n",
       "    }\n",
       "\n",
       "    .dataframe thead th {\n",
       "        text-align: right;\n",
       "    }\n",
       "</style>\n",
       "<table border=\"1\" class=\"dataframe\">\n",
       "  <thead>\n",
       "    <tr style=\"text-align: right;\">\n",
       "      <th></th>\n",
       "      <th>id</th>\n",
       "      <th>valid</th>\n",
       "      <th>pt_supervoxel_id</th>\n",
       "      <th>pt_root_id</th>\n",
       "      <th>session</th>\n",
       "      <th>scan_idx</th>\n",
       "      <th>unit_id</th>\n",
       "      <th>pt_position</th>\n",
       "    </tr>\n",
       "  </thead>\n",
       "  <tbody>\n",
       "    <tr>\n",
       "      <th>0</th>\n",
       "      <td>1</td>\n",
       "      <td>t</td>\n",
       "      <td>111892900580825107</td>\n",
       "      <td>864691135771728459</td>\n",
       "      <td>9</td>\n",
       "      <td>4</td>\n",
       "      <td>5443</td>\n",
       "      <td>[342768, 110096, 16982]</td>\n",
       "    </tr>\n",
       "    <tr>\n",
       "      <th>1</th>\n",
       "      <td>2</td>\n",
       "      <td>t</td>\n",
       "      <td>113374561219162796</td>\n",
       "      <td>864691136056503512</td>\n",
       "      <td>5</td>\n",
       "      <td>6</td>\n",
       "      <td>4163</td>\n",
       "      <td>[353824, 139168, 17340]</td>\n",
       "    </tr>\n",
       "    <tr>\n",
       "      <th>2</th>\n",
       "      <td>3</td>\n",
       "      <td>t</td>\n",
       "      <td>114151228744823805</td>\n",
       "      <td>864691135759645885</td>\n",
       "      <td>6</td>\n",
       "      <td>6</td>\n",
       "      <td>6173</td>\n",
       "      <td>[359104, 158528, 16988]</td>\n",
       "    </tr>\n",
       "    <tr>\n",
       "      <th>3</th>\n",
       "      <td>4</td>\n",
       "      <td>t</td>\n",
       "      <td>113591508741325495</td>\n",
       "      <td>864691136023817529</td>\n",
       "      <td>7</td>\n",
       "      <td>4</td>\n",
       "      <td>12641</td>\n",
       "      <td>[355312, 182976, 18283]</td>\n",
       "    </tr>\n",
       "    <tr>\n",
       "      <th>4</th>\n",
       "      <td>5</td>\n",
       "      <td>t</td>\n",
       "      <td>113101126421131388</td>\n",
       "      <td>864691135847929438</td>\n",
       "      <td>5</td>\n",
       "      <td>6</td>\n",
       "      <td>8571</td>\n",
       "      <td>[351568, 199024, 17264]</td>\n",
       "    </tr>\n",
       "    <tr>\n",
       "      <th>...</th>\n",
       "      <td>...</td>\n",
       "      <td>...</td>\n",
       "      <td>...</td>\n",
       "      <td>...</td>\n",
       "      <td>...</td>\n",
       "      <td>...</td>\n",
       "      <td>...</td>\n",
       "      <td>...</td>\n",
       "    </tr>\n",
       "    <tr>\n",
       "      <th>195</th>\n",
       "      <td>196</td>\n",
       "      <td>t</td>\n",
       "      <td>84028802904693239</td>\n",
       "      <td>864691135341053381</td>\n",
       "      <td>9</td>\n",
       "      <td>4</td>\n",
       "      <td>8277</td>\n",
       "      <td>[140208, 124336, 24049]</td>\n",
       "    </tr>\n",
       "    <tr>\n",
       "      <th>196</th>\n",
       "      <td>197</td>\n",
       "      <td>t</td>\n",
       "      <td>87199863091540257</td>\n",
       "      <td>864691136922717668</td>\n",
       "      <td>9</td>\n",
       "      <td>3</td>\n",
       "      <td>2477</td>\n",
       "      <td>[162976, 157856, 23478]</td>\n",
       "    </tr>\n",
       "    <tr>\n",
       "      <th>197</th>\n",
       "      <td>198</td>\n",
       "      <td>t</td>\n",
       "      <td>87272705870770932</td>\n",
       "      <td>864691135272254225</td>\n",
       "      <td>6</td>\n",
       "      <td>7</td>\n",
       "      <td>6978</td>\n",
       "      <td>[163824, 176048, 24252]</td>\n",
       "    </tr>\n",
       "    <tr>\n",
       "      <th>198</th>\n",
       "      <td>199</td>\n",
       "      <td>t</td>\n",
       "      <td>86994941611767343</td>\n",
       "      <td>864691135490575335</td>\n",
       "      <td>8</td>\n",
       "      <td>5</td>\n",
       "      <td>10211</td>\n",
       "      <td>[161344, 203952, 23381]</td>\n",
       "    </tr>\n",
       "    <tr>\n",
       "      <th>199</th>\n",
       "      <td>200</td>\n",
       "      <td>t</td>\n",
       "      <td>85802040483343266</td>\n",
       "      <td>864691135256128687</td>\n",
       "      <td>5</td>\n",
       "      <td>6</td>\n",
       "      <td>8891</td>\n",
       "      <td>[152656, 228736, 25205]</td>\n",
       "    </tr>\n",
       "  </tbody>\n",
       "</table>\n",
       "<p>200 rows × 8 columns</p>\n",
       "</div>"
      ],
      "text/plain": [
       "      id valid    pt_supervoxel_id          pt_root_id  session  scan_idx  \\\n",
       "0      1     t  111892900580825107  864691135771728459        9         4   \n",
       "1      2     t  113374561219162796  864691136056503512        5         6   \n",
       "2      3     t  114151228744823805  864691135759645885        6         6   \n",
       "3      4     t  113591508741325495  864691136023817529        7         4   \n",
       "4      5     t  113101126421131388  864691135847929438        5         6   \n",
       "..   ...   ...                 ...                 ...      ...       ...   \n",
       "195  196     t   84028802904693239  864691135341053381        9         4   \n",
       "196  197     t   87199863091540257  864691136922717668        9         3   \n",
       "197  198     t   87272705870770932  864691135272254225        6         7   \n",
       "198  199     t   86994941611767343  864691135490575335        8         5   \n",
       "199  200     t   85802040483343266  864691135256128687        5         6   \n",
       "\n",
       "     unit_id              pt_position  \n",
       "0       5443  [342768, 110096, 16982]  \n",
       "1       4163  [353824, 139168, 17340]  \n",
       "2       6173  [359104, 158528, 16988]  \n",
       "3      12641  [355312, 182976, 18283]  \n",
       "4       8571  [351568, 199024, 17264]  \n",
       "..       ...                      ...  \n",
       "195     8277  [140208, 124336, 24049]  \n",
       "196     2477  [162976, 157856, 23478]  \n",
       "197     6978  [163824, 176048, 24252]  \n",
       "198    10211  [161344, 203952, 23381]  \n",
       "199     8891  [152656, 228736, 25205]  \n",
       "\n",
       "[200 rows x 8 columns]"
      ]
     },
     "execution_count": 5,
     "metadata": {},
     "output_type": "execute_result"
    }
   ],
   "source": [
    "matched_df = client.materialize.query_table('func_unit_em_match_release')\n",
    "matched_df"
   ]
  },
  {
   "cell_type": "markdown",
   "metadata": {},
   "source": [
    "### Column descriptions:\n",
    "\n",
    "<b>id:</b> a unique identifier for this row\n",
    "\n",
    "<b>valid:</b> internal check, uniformly ‘t’\n",
    "\n",
    "<b>pt_position_{x,y,z}:</b> the location in 4,4,40 nm voxels at a cell body for the cell\n",
    "\n",
    "<b>pt_supervoxel_id:</b> the ID of the supervoxel from the watershed segmentation that is under the pt_position\n",
    "\n",
    "<b>pt_root_id:</b> the ID of the segment/root_id under the pt_position from the Proofread Segmentation (v117).\n",
    "\n",
    "<b>session:</b> the ID indicating the imaging period for the mouse\n",
    "\n",
    "<b>scan_idx:</b> the index of the scan within the imaging session\n",
    "\n",
    "<b>unit_id:</b> the ID of the functional ROI (unique per scan)"
   ]
  },
  {
   "cell_type": "markdown",
   "metadata": {},
   "source": [
    "### Select a random entry"
   ]
  },
  {
   "cell_type": "code",
   "execution_count": 6,
   "metadata": {},
   "outputs": [
    {
     "data": {
      "text/html": [
       "<div>\n",
       "<style scoped>\n",
       "    .dataframe tbody tr th:only-of-type {\n",
       "        vertical-align: middle;\n",
       "    }\n",
       "\n",
       "    .dataframe tbody tr th {\n",
       "        vertical-align: top;\n",
       "    }\n",
       "\n",
       "    .dataframe thead th {\n",
       "        text-align: right;\n",
       "    }\n",
       "</style>\n",
       "<table border=\"1\" class=\"dataframe\">\n",
       "  <thead>\n",
       "    <tr style=\"text-align: right;\">\n",
       "      <th></th>\n",
       "      <th>id</th>\n",
       "      <th>valid</th>\n",
       "      <th>pt_supervoxel_id</th>\n",
       "      <th>pt_root_id</th>\n",
       "      <th>session</th>\n",
       "      <th>scan_idx</th>\n",
       "      <th>unit_id</th>\n",
       "      <th>pt_position</th>\n",
       "    </tr>\n",
       "  </thead>\n",
       "  <tbody>\n",
       "    <tr>\n",
       "      <th>55</th>\n",
       "      <td>56</td>\n",
       "      <td>t</td>\n",
       "      <td>105913619849644767</td>\n",
       "      <td>864691135103971661</td>\n",
       "      <td>8</td>\n",
       "      <td>5</td>\n",
       "      <td>4573</td>\n",
       "      <td>[299520, 125376, 24236]</td>\n",
       "    </tr>\n",
       "  </tbody>\n",
       "</table>\n",
       "</div>"
      ],
      "text/plain": [
       "    id valid    pt_supervoxel_id          pt_root_id  session  scan_idx  \\\n",
       "55  56     t  105913619849644767  864691135103971661        8         5   \n",
       "\n",
       "    unit_id              pt_position  \n",
       "55     4573  [299520, 125376, 24236]  "
      ]
     },
     "execution_count": 6,
     "metadata": {},
     "output_type": "execute_result"
    }
   ],
   "source": [
    "entry = matched_df.sample(1)\n",
    "entry"
   ]
  },
  {
   "cell_type": "code",
   "execution_count": 7,
   "metadata": {},
   "outputs": [],
   "source": [
    "segment = entry.pt_root_id.values[0] # get ID of segment to visualize\n",
    "centroid = entry.pt_position.values[0] # get centroid of segment"
   ]
  },
  {
   "cell_type": "markdown",
   "metadata": {},
   "source": [
    "## View entry in Neuroglancer"
   ]
  },
  {
   "cell_type": "markdown",
   "metadata": {},
   "source": [
    "### Flat segmentation"
   ]
  },
  {
   "cell_type": "markdown",
   "metadata": {},
   "source": [
    "The flat segmentation is a complete segmentation of the entire Minnie volume. It is fast-loading, with multi-scale 3D meshes. It is currently on v117 public.\n",
    "\n",
    "Programmatic editing of Neuroglancer links can be accomplished using the Seung lab/ AIBS package [nglui](https://github.com/seung-lab/NeuroglancerAnnotationUI).\n",
    "\n",
    "```python\n",
    "pip install nglui\n",
    "```\n",
    "\n",
    "[Example notebook](https://github.com/seung-lab/NeuroglancerAnnotationUI/blob/master/examples/statebuilder_examples.ipynb)"
   ]
  },
  {
   "cell_type": "code",
   "execution_count": 8,
   "metadata": {},
   "outputs": [],
   "source": [
    "from nglui import statebuilder # generate links in Seung lab a custom Neuroglancer deployment called Neuromancer"
   ]
  },
  {
   "cell_type": "code",
   "execution_count": 9,
   "metadata": {},
   "outputs": [
    {
     "data": {
      "text/html": [
       "<a href=\"https://ngl.microns-explorer.org/#!%7B%22navigation%22:%7B%22pose%22:%7B%22position%22:%7B%22voxelSize%22:%5B4.0,4.0,40.0%5D,%22voxelCoordinates%22:%5B299520.0,125376.0,24236.0%5D%7D%7D,%22zoomFactor%22:2.0%7D,%22showSlices%22:false,%22layout%22:%223d%22,%22perspectiveZoom%22:3000.0,%22layers%22:%5B%7B%22type%22:%22image%22,%22source%22:%22precomputed://https://bossdb-open-data.s3.amazonaws.com/microns/minnie/minnie65-phase3-em/aligned/v1%22,%22name%22:%22img%22%7D,%7B%22type%22:%22segmentation%22,%22source%22:%22precomputed://gs://iarpa_microns/minnie/minnie65/seg%22,%22name%22:%22seg%22,%22segments%22:%5B%22864691135103971661%22%5D,%22segmentColors%22:%7B%7D,%22selectedAlpha%22:0.3,%22objectAlpha%22:1.0,%22notSelectedAlpha%22:0.0%7D%5D%7D\" target=\"_blank\">Neuroglancer Link</a>"
      ],
      "text/plain": [
       "<IPython.core.display.HTML object>"
      ]
     },
     "execution_count": 9,
     "metadata": {},
     "output_type": "execute_result"
    }
   ],
   "source": [
    "em_layer = statebuilder.ImageLayerConfig(\"precomputed://https://bossdb-open-data.s3.amazonaws.com/microns/minnie/minnie65-phase3-em/aligned/v1\") # public em source\n",
    "seg_layer = statebuilder.SegmentationLayerConfig(\"precomputed://gs://iarpa_microns/minnie/minnie65/seg\", name='seg', fixed_ids=[segment]) # public segmentation source\n",
    "\n",
    "view_options = {'layout': '3d',\n",
    "                'zoom_3d': 3000,\n",
    "                'position': centroid} # set zoom options and center on segment\n",
    "\n",
    "sb = statebuilder.StateBuilder([em_layer, seg_layer], view_kws=view_options)\n",
    "\n",
    "sb.render_state(url_prefix='https://ngl.microns-explorer.org/', return_as='html')"
   ]
  },
  {
   "cell_type": "markdown",
   "metadata": {},
   "source": [
    "### Dynamic segmentation"
   ]
  },
  {
   "cell_type": "markdown",
   "metadata": {},
   "source": [
    "The dynamic segmentation is a live-view of the current segmentation and mesh state that is altered by proofreading. **(It may take awhile to load)**\n",
    "\n",
    "It is viewable in a modified version of Neuroglancer and accessible with [nglui](https://github.com/seung-lab/NeuroglancerAnnotationUI)."
   ]
  },
  {
   "cell_type": "code",
   "execution_count": 10,
   "metadata": {},
   "outputs": [
    {
     "data": {
      "text/html": [
       "<a href=\"https://neuromancer-seung-import.appspot.com/#!%7B%22navigation%22:%7B%22pose%22:%7B%22position%22:%7B%22voxelSize%22:%5B4.0,4.0,40.0%5D,%22voxelCoordinates%22:%5B299520.0,125376.0,24236.0%5D%7D%7D,%22zoomFactor%22:2.0%7D,%22showSlices%22:false,%22layout%22:%223d%22,%22perspectiveZoom%22:3000.0,%22layers%22:%5B%7B%22type%22:%22image%22,%22source%22:%22precomputed://https://bossdb-open-data.s3.amazonaws.com/microns/minnie/minnie65-phase3-em/aligned/v1%22,%22name%22:%22img%22,%22shader%22:%22#uicontrol%20float%20black%20slider(min=0,%20max=1,%20default=0.35)%5Cn#uicontrol%20float%20white%20slider(min=0,%20max=1,%20default=0.7)%5Cnfloat%20rescale(float%20value)%20%7B%5Cn%20%20return%20(value%20-%20black)%20/%20(white%20-%20black);%5Cn%7D%5Cnvoid%20main()%20%7B%5Cn%20%20float%20val%20=%20toNormalized(getDataValue());%5Cn%20%20if%20(val%20%3C%20black)%20%7B%5Cn%20%20%20%20emitRGB(vec3(0,0,0));%5Cn%20%20%7D%20else%20if%20(val%20%3E%20white)%20%7B%5Cn%20%20%20%20emitRGB(vec3(1.0,%201.0,%201.0));%5Cn%20%20%7D%20else%20%7B%5Cn%20%20%20%20emitGrayscale(rescale(val));%5Cn%20%20%7D%5Cn%7D%5Cn%22%7D,%7B%22type%22:%22segmentation_with_graph%22,%22source%22:%22graphene://https://minnie.microns-daf.com/segmentation/table/minnie65_public_v117%22,%22name%22:%22seg%22,%22segments%22:%5B%22864691135103971661%22%5D,%22segmentColors%22:%7B%7D,%22selectedAlpha%22:0.3,%22objectAlpha%22:1.0,%22notSelectedAlpha%22:0.0%7D%5D%7D\" target=\"_blank\">Neuroglancer Link</a>"
      ],
      "text/plain": [
       "<IPython.core.display.HTML object>"
      ]
     },
     "execution_count": 10,
     "metadata": {},
     "output_type": "execute_result"
    }
   ],
   "source": [
    "em_layer = statebuilder.ImageLayerConfig(client.info.image_source(), contrast_controls=True, black=0.35, white=0.7) # set EM layer \n",
    "seg_layer =  statebuilder.SegmentationLayerConfig(client.info.segmentation_source(),  name='seg', fixed_ids=[segment]) # set dynamic segmentation layer\n",
    "view_options = {'layout': '3d',\n",
    "                'zoom_3d': 3000,\n",
    "                'position': centroid}  # set zoom options and center on segment\n",
    "\n",
    "sb = statebuilder.StateBuilder([em_layer, seg_layer], view_kws=view_options) # generate statebuilder\n",
    "sb.render_state(return_as='html') # render state as html link"
   ]
  },
  {
   "cell_type": "markdown",
   "metadata": {},
   "source": [
    "# Access Functional data"
   ]
  },
  {
   "cell_type": "markdown",
   "metadata": {},
   "source": [
    "This notebook assumes you have access to a copy of the SQL database that houses the functional data and the functional data schema repository. Instructions to download are [here](https://www.microns-explorer.org/cortical-mm3#f-data).\n",
    "\n",
    "The contents of the SQL schema are accessed programmatically using [DataJoint](https://datajoint.io/). Find an example notebook for using DataJoint to access the functional data [here]."
   ]
  },
  {
   "cell_type": "code",
   "execution_count": 18,
   "metadata": {},
   "outputs": [],
   "source": [
    "%%capture\n",
    "import datajoint as dj\n",
    "from phase3 import nda, func, utils\n",
    "\n",
    "import numpy as np\n",
    "import matplotlib.pyplot as plt\n",
    "import seaborn as sns"
   ]
  },
  {
   "cell_type": "markdown",
   "metadata": {},
   "source": [
    "### Convert entry to DataJoint compatible key"
   ]
  },
  {
   "cell_type": "markdown",
   "metadata": {},
   "source": [
    "DataJoint tables can be restricted with dictionaries. Here we generate a dictionary of attributes that specify the unique functional ROI in the DataJoint schema. "
   ]
  },
  {
   "cell_type": "code",
   "execution_count": 12,
   "metadata": {},
   "outputs": [
    {
     "data": {
      "text/plain": [
       "{'session': 8, 'scan_idx': 5, 'unit_id': 4573}"
      ]
     },
     "execution_count": 12,
     "metadata": {},
     "output_type": "execute_result"
    }
   ],
   "source": [
    "unit_key = entry[['session', 'scan_idx', 'unit_id']].to_dict(orient='records')[0]\n",
    "unit_key"
   ]
  },
  {
   "cell_type": "markdown",
   "metadata": {},
   "source": [
    "### Fetch & plot activity trace, calcium trace, pupil radius, and treadmill"
   ]
  },
  {
   "cell_type": "markdown",
   "metadata": {},
   "source": [
    "Here we use the key to fetch and plot a variety of data from the schema, including the unit's calcium & spike traces, and the scan's pupil trace and treadmill speed. \n",
    "\n",
    "Note: The `nda.ManualPupil` and `nda.Treadmill` tables only contain the `session` and `scan_idx` attributes, but can still be retrieved with the `unit_key`. The `unit_id` attribute is ignored when restricting against these tables."
   ]
  },
  {
   "cell_type": "code",
   "execution_count": 13,
   "metadata": {},
   "outputs": [],
   "source": [
    "nframes, fps = (nda.Scan & unit_key).fetch1('nframes', 'fps')  # fetch # frames and fps\n",
    "time_axis = np.arange(nframes)/ fps # create time axis (seconds)\n",
    "spike_trace = (nda.Activity & unit_key).fetch1('trace') # fetch spike trace\n",
    "calcium_trace = (nda.ScanUnit * nda.Fluorescence & unit_key).fetch1('trace') # fetch calcium fluorescence trace\n",
    "pupil_radius = (nda.ManualPupil & unit_key).fetch1('pupil_maj_r') # fetch manually segmented pupil trace \n",
    "treadmill = (nda.Treadmill & unit_key).fetch1('treadmill_velocity') # fetch treadmill speed"
   ]
  },
  {
   "cell_type": "code",
   "execution_count": 14,
   "metadata": {},
   "outputs": [
    {
     "data": {
      "image/png": "[encoded data removed]",
      "text/plain": [
       "<Figure size 1080x576 with 3 Axes>"
      ]
     },
     "metadata": {
      "needs_background": "light"
     },
     "output_type": "display_data"
    }
   ],
   "source": [
    "fig, (ax1, ax2, ax3) = plt.subplots(3, 1, figsize=(15, 8), sharex=True)\n",
    "ax1.plot(time_axis, calcium_trace, color='g', alpha=0.3, label='calcium trace')\n",
    "ax1.plot(time_axis, spike_trace, color='k', label='spike trace')\n",
    "ax2.plot(time_axis, pupil_radius, color='k')\n",
    "ax3.plot(time_axis, treadmill, color='k')\n",
    "ax3.set_xlim(3000, 4000) \n",
    "ax1.set_ylabel('response magnitude')\n",
    "ax1.legend()\n",
    "ax2.set_ylabel('pupil radius')\n",
    "ax3.set_ylabel('treadmill speed')\n",
    "fig.suptitle(f'session: {unit_key[\"session\"]}, scan_idx: {unit_key[\"scan_idx\"]}, unit_id: {unit_key[\"unit_id\"]}', fontsize=22);\n",
    "[ax.spines['right'].set_visible(False) for ax in [ax1, ax2, ax3]];\n",
    "[ax.spines['top'].set_visible(False) for ax in [ax1, ax2, ax3]];"
   ]
  },
  {
   "cell_type": "markdown",
   "metadata": {},
   "source": [
    "### Plot oracle raster"
   ]
  },
  {
   "cell_type": "markdown",
   "metadata": {},
   "source": [
    "Here we use a function provided in the `func` module to retrieve the responses for the functional unit for the repeated stimulus trials (oracle trials). For a further description of the oracle see the technical documentation."
   ]
  },
  {
   "cell_type": "code",
   "execution_count": 15,
   "metadata": {},
   "outputs": [],
   "source": [
    "oracle_traces, score = func.fetch_oracle_raster(unit_key)"
   ]
  },
  {
   "cell_type": "code",
   "execution_count": 16,
   "metadata": {},
   "outputs": [
    {
     "data": {
      "text/plain": [
       "Text(0.5, 1.2, 'session: 8, scan_idx: 5, unit_id: 4573')"
      ]
     },
     "execution_count": 16,
     "metadata": {},
     "output_type": "execute_result"
    },
    {
     "data": {
      "image/png": "[encoded data removed]",
      "text/plain": [
       "<Figure size 1800x300 with 6 Axes>"
      ]
     },
     "metadata": {},
     "output_type": "display_data"
    }
   ],
   "source": [
    "fig,axes = plt.subplots(1,6, figsize=(6,1),dpi=300)\n",
    "for col,clip_trace in zip(axes,np.moveaxis(oracle_traces,1,0)):\n",
    "    col.imshow(clip_trace,cmap='binary', interpolation='nearest')\n",
    "    col.set_aspect('auto')\n",
    "    col.set_xticks([])\n",
    "    col.set_yticks([])\n",
    "axes[0].set_ylabel(f'oracle score: {score:.2f}', fontsize=5)\n",
    "fig.subplots_adjust(wspace=.05)\n",
    "[ax.set_title(f'oracle clip {i+1}', fontsize=6) for i, ax in enumerate(axes)];\n",
    "fig.suptitle(f'session: {unit_key[\"session\"]}, scan_idx: {unit_key[\"scan_idx\"]}, unit_id: {unit_key[\"unit_id\"]}', fontsize=7, y=1.2)"
   ]
  }
 ],
 "metadata": {
  "kernelspec": {
   "display_name": "Python 3",
   "language": "python",
   "name": "python3"
  },
  "language_info": {
   "codemirror_mode": {
    "name": "ipython",
    "version": 3
   },
   "file_extension": ".py",
   "mimetype": "text/x-python",
   "name": "python",
   "nbconvert_exporter": "python",
   "pygments_lexer": "ipython3",
   "version": "3.6.8"
  }
 },
 "nbformat": 4,
 "nbformat_minor": 2
}
